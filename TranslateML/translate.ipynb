{
 "cells": [
  {
   "cell_type": "markdown",
   "metadata": {},
   "source": [
    "### Demo Google Translate API\n",
    "#### 2021-03-26\n",
    "##### Author: Vedant Vohra"
   ]
  },
  {
   "cell_type": "code",
   "execution_count": 5,
   "metadata": {},
   "outputs": [],
   "source": [
    "import googletrans\n",
    "import pandas as pd\n",
    "from googletrans import Translator"
   ]
  },
  {
   "cell_type": "code",
   "execution_count": 6,
   "metadata": {},
   "outputs": [
    {
     "name": "stdout",
     "output_type": "stream",
     "text": [
      "  Vegetable Names\n",
      "0           गाजर \n",
      "1     शिमला मिर्च\n",
      "2         भिन्डी \n",
      "3          मक्का \n",
      "4       लाल मिर्च\n"
     ]
    }
   ],
   "source": [
    "data = pd.read_csv('data/hindi.csv')\n",
    "print(data.head())"
   ]
  },
  {
   "cell_type": "code",
   "execution_count": 7,
   "metadata": {},
   "outputs": [
    {
     "name": "stdout",
     "output_type": "stream",
     "text": [
      "गाजर  carrot\n",
      "शिमला मिर्च Capsicum\n",
      "भिन्डी  Lady finger\n",
      "मक्का  Maize\n",
      "लाल मिर्च red chilli\n",
      "खीरा  Cucumber\n",
      "कढ़ी पत्ता curry leaves\n",
      "बैगन  Brinjal\n",
      "लहसुन  Garlic\n",
      "अदरक  Ginger\n"
     ]
    }
   ],
   "source": [
    "translator = googletrans.Translator()\n",
    "translations = {}\n",
    "for column in data.columns:\n",
    "    unique = data[column].unique()\n",
    "    for element in unique:\n",
    "        translations[element] = translator.translate(element).text\n",
    "        \n",
    "for hindi,english in translations.items():\n",
    "    print(hindi,english)"
   ]
  },
  {
   "cell_type": "code",
   "execution_count": null,
   "metadata": {},
   "outputs": [],
   "source": []
  }
 ],
 "metadata": {
  "interpreter": {
   "hash": "8b4f5fd03ea157e7bae70664ccc6387b191ee2e382b72dd31c2fbc6aa6c97185"
  },
  "kernelspec": {
   "display_name": "Python 3.8.8 64-bit ('base': conda)",
   "language": "python",
   "name": "python3"
  },
  "language_info": {
   "codemirror_mode": {
    "name": "ipython",
    "version": 3
   },
   "file_extension": ".py",
   "mimetype": "text/x-python",
   "name": "python",
   "nbconvert_exporter": "python",
   "pygments_lexer": "ipython3",
   "version": "3.8.8"
  },
  "orig_nbformat": 4
 },
 "nbformat": 4,
 "nbformat_minor": 2
}
